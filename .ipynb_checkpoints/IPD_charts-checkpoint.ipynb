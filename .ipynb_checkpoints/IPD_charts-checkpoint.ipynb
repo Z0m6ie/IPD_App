{
 "cells": [
  {
   "cell_type": "code",
   "execution_count": 2,
   "metadata": {},
   "outputs": [],
   "source": [
    "import plotly \n",
    "plotly.tools.set_credentials_file(username='Z0m6ie', api_key='NF11feIOXUr9MnP7F0Sh')"
   ]
  },
  {
   "cell_type": "code",
   "execution_count": 3,
   "metadata": {},
   "outputs": [],
   "source": [
    "import plotly.plotly as py\n",
    "import plotly.graph_objs as go"
   ]
  },
  {
   "cell_type": "code",
   "execution_count": 4,
   "metadata": {},
   "outputs": [],
   "source": [
    "import numpy as np\n",
    "import pandas as pd"
   ]
  },
  {
   "cell_type": "code",
   "execution_count": 8,
   "metadata": {},
   "outputs": [],
   "source": [
    "df = pd.read_excel('https://github.com/Z0m6ie/IPD_App/blob/master/basis.xlsx?raw=true')"
   ]
  },
  {
   "cell_type": "code",
   "execution_count": 9,
   "metadata": {},
   "outputs": [
    {
     "data": {
      "text/html": [
       "<div>\n",
       "<style>\n",
       "    .dataframe thead tr:only-child th {\n",
       "        text-align: right;\n",
       "    }\n",
       "\n",
       "    .dataframe thead th {\n",
       "        text-align: left;\n",
       "    }\n",
       "\n",
       "    .dataframe tbody tr th {\n",
       "        vertical-align: top;\n",
       "    }\n",
       "</style>\n",
       "<table border=\"1\" class=\"dataframe\">\n",
       "  <thead>\n",
       "    <tr style=\"text-align: right;\">\n",
       "      <th></th>\n",
       "      <th>SNC-Lavalin_cost</th>\n",
       "      <th>Construction_Partner_cost</th>\n",
       "      <th>OEM_cost</th>\n",
       "      <th>Profit_percent</th>\n",
       "    </tr>\n",
       "  </thead>\n",
       "  <tbody>\n",
       "    <tr>\n",
       "      <th>Engineering</th>\n",
       "      <td>92790000</td>\n",
       "      <td>0</td>\n",
       "      <td>0</td>\n",
       "      <td>0.07</td>\n",
       "    </tr>\n",
       "    <tr>\n",
       "      <th>Procurement</th>\n",
       "      <td>192000000</td>\n",
       "      <td>0</td>\n",
       "      <td>192000000</td>\n",
       "      <td>0.04</td>\n",
       "    </tr>\n",
       "    <tr>\n",
       "      <th>Construction</th>\n",
       "      <td>200000000</td>\n",
       "      <td>500000000</td>\n",
       "      <td>0</td>\n",
       "      <td>0.09</td>\n",
       "    </tr>\n",
       "    <tr>\n",
       "      <th>Commisioning</th>\n",
       "      <td>12000000</td>\n",
       "      <td>0</td>\n",
       "      <td>0</td>\n",
       "      <td>0.09</td>\n",
       "    </tr>\n",
       "    <tr>\n",
       "      <th>Start-up_support</th>\n",
       "      <td>10000000</td>\n",
       "      <td>0</td>\n",
       "      <td>0</td>\n",
       "      <td>0.09</td>\n",
       "    </tr>\n",
       "  </tbody>\n",
       "</table>\n",
       "</div>"
      ],
      "text/plain": [
       "                  SNC-Lavalin_cost  Construction_Partner_cost   OEM_cost  \\\n",
       "Engineering               92790000                          0          0   \n",
       "Procurement              192000000                          0  192000000   \n",
       "Construction             200000000                  500000000          0   \n",
       "Commisioning              12000000                          0          0   \n",
       "Start-up_support          10000000                          0          0   \n",
       "\n",
       "                  Profit_percent  \n",
       "Engineering                 0.07  \n",
       "Procurement                 0.04  \n",
       "Construction                0.09  \n",
       "Commisioning                0.09  \n",
       "Start-up_support            0.09  "
      ]
     },
     "execution_count": 9,
     "metadata": {},
     "output_type": "execute_result"
    }
   ],
   "source": [
    "df"
   ]
  },
  {
   "cell_type": "code",
   "execution_count": 13,
   "metadata": {},
   "outputs": [],
   "source": [
    "# add base_cost_total column\n",
    "df['Base_cost_total'] = df['SNC-Lavalin_cost'] + df['Construction_Partner_cost'] + df['OEM_cost']"
   ]
  },
  {
   "cell_type": "code",
   "execution_count": 9,
   "metadata": {},
   "outputs": [],
   "source": [
    "df = pd.read_excel('https://github.com/Z0m6ie/IPD_App/blob/master/basis.xlsx?raw=true')\n",
    "\n",
    "# add base_cost_total column\n",
    "df['Base_cost_total'] = df['SNC-Lavalin_cost'] + df['Construction_Partner_cost'] + df['OEM_cost']\n",
    "\n",
    "# Risk Reward Pool\n",
    "df['SNC-Lavalin_R&R'] = df['SNC-Lavalin_cost'] * df['Profit_percent']\n",
    "df['Construction_Partner_R&R'] = df['Construction_Partner_cost'] * df['Profit_percent']\n",
    "df['OEM_R&R'] = df['OEM_cost'] * df['Profit_percent']"
   ]
  },
  {
   "cell_type": "code",
   "execution_count": 11,
   "metadata": {},
   "outputs": [
    {
     "data": {
      "text/plain": [
       "34155300.0"
      ]
     },
     "execution_count": 11,
     "metadata": {},
     "output_type": "execute_result"
    }
   ],
   "source": [
    "sum(df['SNC-Lavalin_R&R'])"
   ]
  },
  {
   "cell_type": "code",
   "execution_count": 25,
   "metadata": {},
   "outputs": [
    {
     "data": {
      "text/html": [
       "<iframe id=\"igraph\" scrolling=\"no\" style=\"border:none;\" seamless=\"seamless\" src=\"https://plot.ly/~Z0m6ie/9.embed\" height=\"525px\" width=\"100%\"></iframe>"
      ],
      "text/plain": [
       "<plotly.tools.PlotlyDisplay object>"
      ]
     },
     "execution_count": 25,
     "metadata": {},
     "output_type": "execute_result"
    }
   ],
   "source": [
    "\n",
    "data = [\n",
    "    go.Bar(\n",
    "        x='Base_cost_total', # assign x as the dataframe column 'x'\n",
    "        y=df['Base_cost_total'][0],\n",
    "        name='Engineering'\n",
    "    ),\n",
    "    \n",
    "    go.Bar(\n",
    "        x='Base_cost_total', # assign x as the dataframe column 'x'\n",
    "        y=df['Base_cost_total'][1],\n",
    "        name='Procurement'\n",
    "    ),\n",
    "    \n",
    "    go.Bar(\n",
    "        x='Base_cost_total', # assign x as the dataframe column 'x'\n",
    "        y=df['Base_cost_total'][2],\n",
    "        name='Construction'\n",
    "    ),\n",
    "    \n",
    "    go.Bar(\n",
    "        x='Base_cost_total', # assign x as the dataframe column 'x'\n",
    "        y=df['Base_cost_total'][3],\n",
    "        name='Commisioning'\n",
    "    ),\n",
    "    \n",
    "    go.Bar(\n",
    "        x='Base_cost_total', # assign x as the dataframe column 'x'\n",
    "        y=df['Base_cost_total'][4],\n",
    "        name='Start-up Support'\n",
    "    )\n",
    "]\n",
    "        \n",
    "#     ),\n",
    "#     go.Bar(\n",
    "#         x=df['x'],\n",
    "#         y=df['y2']\n",
    "#     ),\n",
    "#     go.Bar(\n",
    "#         x=df['x'],\n",
    "#         y=df['y3']\n",
    "#     ),\n",
    "#     go.Bar(\n",
    "#         x=df['x'],\n",
    "#         y=df['y4']\n",
    "#     )\n",
    "\n",
    "\n",
    "layout = go.Layout(\n",
    "    barmode='stack',\n",
    "    title='Base Cost of Meadow Creek Phase 1'\n",
    ")\n",
    "\n",
    "fig = go.Figure(data=data, layout=layout)\n",
    "\n",
    "# IPython notebook\n",
    "py.iplot(fig, filename='Base Cost of Meadow Creek Phase 1')\n",
    "\n",
    "#url = py.plot(data, filename='Base Cost of Meadow Creek Phase 1')"
   ]
  },
  {
   "cell_type": "code",
   "execution_count": 24,
   "metadata": {},
   "outputs": [
    {
     "ename": "NameError",
     "evalue": "name 'data' is not defined",
     "output_type": "error",
     "traceback": [
      "\u001b[1;31m---------------------------------------------------------------------------\u001b[0m",
      "\u001b[1;31mNameError\u001b[0m                                 Traceback (most recent call last)",
      "\u001b[1;32m<ipython-input-24-efefc8f6d4f5>\u001b[0m in \u001b[0;36m<module>\u001b[1;34m()\u001b[0m\n\u001b[0;32m     54\u001b[0m \u001b[1;33m\u001b[0m\u001b[0m\n\u001b[0;32m     55\u001b[0m \u001b[1;33m\u001b[0m\u001b[0m\n\u001b[1;32m---> 56\u001b[1;33m         \u001b[0mfig\u001b[0m \u001b[1;33m=\u001b[0m \u001b[0mgo\u001b[0m\u001b[1;33m.\u001b[0m\u001b[0mFigure\u001b[0m\u001b[1;33m(\u001b[0m\u001b[0mdata\u001b[0m\u001b[1;33m=\u001b[0m\u001b[0mdata\u001b[0m\u001b[1;33m,\u001b[0m \u001b[0mlayout\u001b[0m\u001b[1;33m=\u001b[0m\u001b[0mlayout\u001b[0m\u001b[1;33m)\u001b[0m\u001b[1;33m\u001b[0m\u001b[0m\n\u001b[0m\u001b[0;32m     57\u001b[0m     )\n\u001b[0;32m     58\u001b[0m ])\n",
      "\u001b[1;31mNameError\u001b[0m: name 'data' is not defined"
     ]
    }
   ],
   "source": [
    "import dash\n",
    "import dash_core_components as dcc\n",
    "import dash_html_components as html\n",
    "import plotly.graph_objs as go\n",
    "import pandas as pd\n",
    "\n",
    "app = dash.Dash()\n",
    "\n",
    "df = pd.read_excel('https://github.com/Z0m6ie/IPD_App/blob/master/basis.xlsx?raw=true')\n",
    "\n",
    "# add base_cost_total column\n",
    "df['Base_cost_total'] = df['SNC-Lavalin_cost'] + df['Construction_Partner_cost'] + df['OEM_cost']\n",
    "\n",
    "app.layout = html.Div([\n",
    "    dcc.Graph(\n",
    "        id='Base Cost of Meadow Creek Phase 1',\n",
    "            data = [\n",
    "                go.Bar(\n",
    "                    x='Base_cost_total', # assign x as the dataframe column 'x'\n",
    "                    y=df['Base_cost_total'][0],\n",
    "                    name='Engineering'\n",
    "                ),\n",
    "\n",
    "                go.Bar(\n",
    "                    x='Base_cost_total', # assign x as the dataframe column 'x'\n",
    "                    y=df['Base_cost_total'][1],\n",
    "                    name='Procurement'\n",
    "                ),\n",
    "\n",
    "                go.Bar(\n",
    "                    x='Base_cost_total', # assign x as the dataframe column 'x'\n",
    "                    y=df['Base_cost_total'][2],\n",
    "                    name='Construction'\n",
    "                ),\n",
    "\n",
    "                go.Bar(\n",
    "                    x='Base_cost_total', # assign x as the dataframe column 'x'\n",
    "                    y=df['Base_cost_total'][3],\n",
    "                    name='Commisioning'\n",
    "                ),\n",
    "\n",
    "                go.Bar(\n",
    "                    x='Base_cost_total', # assign x as the dataframe column 'x'\n",
    "                    y=df['Base_cost_total'][4],\n",
    "                    name='Start-up Support'\n",
    "                )\n",
    "            ],\n",
    "\n",
    "\n",
    "            layout = go.Layout(\n",
    "                barmode='stack',\n",
    "                title='Base Cost of Meadow Creek Phase 1'\n",
    "            ),\n",
    "            \n",
    "\n",
    "        fig = go.Figure(data=data, layout=layout)\n",
    "    )\n",
    "])\n",
    "\n",
    "if __name__ == '__main__':\n",
    "    app.run_server()"
   ]
  }
 ],
 "metadata": {
  "kernelspec": {
   "display_name": "Python 3",
   "language": "python",
   "name": "python3"
  },
  "language_info": {
   "codemirror_mode": {
    "name": "ipython",
    "version": 3
   },
   "file_extension": ".py",
   "mimetype": "text/x-python",
   "name": "python",
   "nbconvert_exporter": "python",
   "pygments_lexer": "ipython3",
   "version": "3.5.2"
  },
  "widgets": {
   "state": {},
   "version": "1.1.2"
  }
 },
 "nbformat": 4,
 "nbformat_minor": 2
}
